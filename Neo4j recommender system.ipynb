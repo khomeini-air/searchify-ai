{
 "cells": [
  {
   "cell_type": "code",
   "execution_count": null,
   "id": "fb42724f",
   "metadata": {},
   "outputs": [],
   "source": [
    "# spring.neo4j.uri=neo4j+s://ed887860.databases.neo4j.io:7687\n",
    "# spring.neo4j.authentication.username=neo4j\n",
    "# spring.neo4j.authentication.password=yulO-mLLrt72cJ39FI12Lo-Lr6wtv6qx2oIzUNDl5Zo\n",
    "# spring.data.neo4j.database = neo4"
   ]
  },
  {
   "cell_type": "code",
   "execution_count": 37,
   "id": "55628c15",
   "metadata": {},
   "outputs": [],
   "source": [
    "# Import py2neo and connect to Neo4j\n",
    "from py2neo import Graph\n",
    "\n",
    "# just an example, replace with credentials for your own Neo4j instance\n",
    "# graph = Graph(bolt=False, host=\"ed887860.databases.neo4j.io\", http_port=7687, user='neo4j', password='yulO-mLLrt72cJ39FI12Lo-Lr6wtv6qx2oIzUNDl5Zo')\n",
    "graph = Graph('neo4j+s://ed887860.databases.neo4j.io:7687', auth=('neo4j','yulO-mLLrt72cJ39FI12Lo-Lr6wtv6qx2oIzUNDl5Zo'))"
   ]
  },
  {
   "cell_type": "code",
   "execution_count": 3,
   "id": "2d451819",
   "metadata": {},
   "outputs": [
    {
     "data": {
      "text/plain": [
       "170"
      ]
     },
     "execution_count": 3,
     "metadata": {},
     "output_type": "execute_result"
    }
   ],
   "source": [
    "# Hello world, sanity check\n",
    "graph.run(\"MATCH (a) RETURN COUNT(a) AS numberOfNodes\").evaluate()"
   ]
  },
  {
   "cell_type": "code",
   "execution_count": 4,
   "id": "559fd18d",
   "metadata": {},
   "outputs": [
    {
     "name": "stdout",
     "output_type": "stream",
     "text": [
      "'Canadian Used Vehicles - Toyota'\n",
      "'Canadian GM Inventory'\n"
     ]
    }
   ],
   "source": [
    "result = graph.run('''\n",
    "MATCH (domain:Domain)<-[:IS_LINKED_WITH]->(tag:Tag)<-[:IS_LINKED_WITH]->(sug:Suggestion)\n",
    "WHERE domain.name CONTAINS \"Automotive\" AND tag.name CONTAINS \"used\"\n",
    "RETURN sug.name\n",
    "LIMIT 10\n",
    "''')\n",
    "\n",
    "for row in result:\n",
    "    print(row)"
   ]
  },
  {
   "cell_type": "code",
   "execution_count": 5,
   "id": "07249c9d",
   "metadata": {},
   "outputs": [],
   "source": [
    "result = graph.run('''\n",
    "MATCH (domain:Domain)<-[:IS_LINKED_WITH]->(tag:Tag)<-[:IS_LINKED_WITH]->(sug:Suggestion)\n",
    "WHERE domain.name CONTAINS \"Automotive\" AND tag.name CONTAINS \"used\"\n",
    "RETURN DISTINCT sug.name\n",
    "LIMIT 10\n",
    "''')"
   ]
  },
  {
   "cell_type": "code",
   "execution_count": 6,
   "id": "33d9fa5b",
   "metadata": {},
   "outputs": [
    {
     "data": {
      "text/plain": [
       "array(['Canadian Used Vehicles - Toyota'], dtype='<U31')"
      ]
     },
     "execution_count": 6,
     "metadata": {},
     "output_type": "execute_result"
    }
   ],
   "source": [
    "arr = result.to_ndarray()\n",
    "arr[0]"
   ]
  },
  {
   "cell_type": "code",
   "execution_count": 81,
   "id": "6692595a",
   "metadata": {},
   "outputs": [
    {
     "data": {
      "text/plain": [
       "'\\nMATCH (domain:Domain)<-[:IS_LINKED_WITH]->(tag:Tag)<-[:IS_LINKED_WITH]->(sug:Suggestion)\\nWHERE domain.name CONTAINS \"Automotion\"\\nWITH sug,COUNT(sug) AS suggestions\\nORDER BY suggestions DESC\\nRETURN DISTINCT sug.name\\nLIMIT 10\\n'"
      ]
     },
     "execution_count": 81,
     "metadata": {},
     "output_type": "execute_result"
    }
   ],
   "source": [
    "# domain = \"Automotive\"\n",
    "# tags = [\"used\",\"toyota\"]\n",
    "\n",
    "domain = \"Automotion\"\n",
    "tags = [\"test1\",\"test2\"]\n",
    "\n",
    "quary = '''\n",
    "MATCH (domain:Domain)<-[:IS_LINKED_WITH]->(tag:Tag)<-[:IS_LINKED_WITH]->(sug:Suggestion)\n",
    "WHERE domain.name CONTAINS \"'''+domain+'''\"\n",
    "WITH sug,COUNT(sug) AS suggestions\n",
    "ORDER BY suggestions DESC\n",
    "RETURN DISTINCT sug.name\n",
    "LIMIT 10\n",
    "'''\n",
    "\n",
    "quary"
   ]
  },
  {
   "cell_type": "code",
   "execution_count": 82,
   "id": "2e2c2a76",
   "metadata": {},
   "outputs": [
    {
     "data": {
      "text/plain": [
       "'\\nMATCH (domain:Domain)<-[:IS_LINKED_WITH]->(tag:Tag)<-[:IS_LINKED_WITH]->(sug:Suggestion)\\nWHERE domain.name CONTAINS \"Automotion\"\\n AND tag.name CONTAINS \"test1\" OR tag.name CONTAINS \"test2\"WITH sug,COUNT(sug) AS suggestions\\nORDER BY suggestions DESC\\nRETURN DISTINCT sug.name\\nLIMIT 10\\n'"
      ]
     },
     "execution_count": 82,
     "metadata": {},
     "output_type": "execute_result"
    }
   ],
   "source": [
    "tag = tags[0]\n",
    "tag_qu = ' AND tag.name CONTAINS \"'+ tag +'\"'\n",
    "substr = \"WITH sug\"\n",
    "idx = quary.index(substr)\n",
    "quary = quary[:idx] + tag_qu + quary[idx:]\n",
    "for tag in tags[1:]:\n",
    "    tag_qu = ' OR tag.name CONTAINS \"'+ tag+'\"'\n",
    "    substr = \"WITH sug\"\n",
    "    idx = quary.index(substr)\n",
    "    quary = quary[:idx] + tag_qu + quary[idx:]\n",
    "\n",
    "quary"
   ]
  },
  {
   "cell_type": "code",
   "execution_count": 83,
   "id": "3b8f2388",
   "metadata": {},
   "outputs": [
    {
     "data": {
      "text/html": [
       "(No data)"
      ],
      "text/plain": [
       "(No data)"
      ]
     },
     "execution_count": 83,
     "metadata": {},
     "output_type": "execute_result"
    }
   ],
   "source": [
    "result_multi = graph.run(quary)\n",
    "result_multi"
   ]
  },
  {
   "cell_type": "code",
   "execution_count": 89,
   "id": "e0698825",
   "metadata": {},
   "outputs": [],
   "source": [
    "if result_multi:\n",
    "    print('ok')"
   ]
  },
  {
   "cell_type": "code",
   "execution_count": 84,
   "id": "2b8a80d9",
   "metadata": {},
   "outputs": [],
   "source": [
    "import pandas as pd"
   ]
  },
  {
   "cell_type": "code",
   "execution_count": 85,
   "id": "ec980e60",
   "metadata": {},
   "outputs": [],
   "source": [
    "# result_data = result_multi.to_data_frame()\n",
    "# j_li = list(result_data['sug.name'])\n",
    "# j_li"
   ]
  },
  {
   "cell_type": "code",
   "execution_count": 86,
   "id": "a90dcea5",
   "metadata": {},
   "outputs": [],
   "source": [
    "result_pd = pd.DataFrame(result_multi.to_data_frame())"
   ]
  },
  {
   "cell_type": "code",
   "execution_count": 87,
   "id": "cc9d4021",
   "metadata": {},
   "outputs": [
    {
     "data": {
      "text/html": [
       "<div>\n",
       "<style scoped>\n",
       "    .dataframe tbody tr th:only-of-type {\n",
       "        vertical-align: middle;\n",
       "    }\n",
       "\n",
       "    .dataframe tbody tr th {\n",
       "        vertical-align: top;\n",
       "    }\n",
       "\n",
       "    .dataframe thead th {\n",
       "        text-align: right;\n",
       "    }\n",
       "</style>\n",
       "<table border=\"1\" class=\"dataframe\">\n",
       "  <thead>\n",
       "    <tr style=\"text-align: right;\">\n",
       "      <th></th>\n",
       "    </tr>\n",
       "  </thead>\n",
       "  <tbody>\n",
       "  </tbody>\n",
       "</table>\n",
       "</div>"
      ],
      "text/plain": [
       "Empty DataFrame\n",
       "Columns: []\n",
       "Index: []"
      ]
     },
     "execution_count": 87,
     "metadata": {},
     "output_type": "execute_result"
    }
   ],
   "source": [
    "result_pd"
   ]
  },
  {
   "cell_type": "code",
   "execution_count": 90,
   "id": "065568ef",
   "metadata": {},
   "outputs": [
    {
     "name": "stdout",
     "output_type": "stream",
     "text": [
      "ok\n"
     ]
    }
   ],
   "source": [
    "if result_pd.empty:\n",
    "    print('ok')"
   ]
  },
  {
   "cell_type": "code",
   "execution_count": 71,
   "id": "0f660e17",
   "metadata": {},
   "outputs": [
    {
     "data": {
      "text/plain": [
       "['Canadian Used Vehicles - Toyota', 'Canadian GM Inventory']"
      ]
     },
     "execution_count": 71,
     "metadata": {},
     "output_type": "execute_result"
    }
   ],
   "source": [
    "j_li = list(result_pd['sug.name'])\n",
    "j_li"
   ]
  },
  {
   "cell_type": "code",
   "execution_count": 75,
   "id": "87b35c7e",
   "metadata": {},
   "outputs": [
    {
     "data": {
      "text/plain": [
       "{'suggestion': ['Canadian Used Vehicles - Toyota', 'Canadian GM Inventory']}"
      ]
     },
     "execution_count": 75,
     "metadata": {},
     "output_type": "execute_result"
    }
   ],
   "source": [
    "result_fi = {'suggestion':list(result_pd['sug.name'])}\n",
    "result_fi"
   ]
  },
  {
   "cell_type": "code",
   "execution_count": null,
   "id": "0012cce9",
   "metadata": {},
   "outputs": [],
   "source": [
    "# my_str = \"thisissometextthatiwrote\"\n",
    "# substr = \"text\"\n",
    "# inserttxt = \"XX\"\n",
    "\n",
    "# idx = my_str.index(substr)\n",
    "# my_str = my_str[:idx] + inserttxt + my_str[idx:]"
   ]
  },
  {
   "cell_type": "code",
   "execution_count": null,
   "id": "3163ecc6",
   "metadata": {},
   "outputs": [],
   "source": [
    "result_multi"
   ]
  },
  {
   "cell_type": "code",
   "execution_count": null,
   "id": "3768bd58",
   "metadata": {},
   "outputs": [],
   "source": [
    "result_multi = graph.run('''\n",
    "MATCH (domain:Domain)<-[:IS_LINKED_WITH]->(tag:Tag)<-[:IS_LINKED_WITH]->(sug:Suggestion)\n",
    "WHERE domain.name CONTAINS \"Automotive\" AND tag.name CONTAINS \"used\"\n",
    "RETURN DISTINCT sug.name\n",
    "LIMIT 10\n",
    "''')"
   ]
  },
  {
   "cell_type": "code",
   "execution_count": 9,
   "id": "020e74b0",
   "metadata": {},
   "outputs": [
    {
     "data": {
      "text/plain": [
       "'AND tag.name CONTAINS\"toyota\"'"
      ]
     },
     "execution_count": 9,
     "metadata": {},
     "output_type": "execute_result"
    }
   ],
   "source": [
    "tag_qu"
   ]
  },
  {
   "cell_type": "code",
   "execution_count": 4,
   "id": "e9db7f84",
   "metadata": {},
   "outputs": [],
   "source": [
    "from pydantic import BaseModel,constr"
   ]
  },
  {
   "cell_type": "code",
   "execution_count": 30,
   "id": "42d3d6c8",
   "metadata": {},
   "outputs": [],
   "source": [
    "class suggestions(BaseModel):\n",
    "    domain:str\n",
    "    tags: list[constr(max_length=255)]"
   ]
  },
  {
   "cell_type": "code",
   "execution_count": 31,
   "id": "0a874636",
   "metadata": {},
   "outputs": [],
   "source": [
    "item_py = suggestions(\n",
    "    domain = \"auto\",\n",
    "    tags = [\"test1\",\"test2\"]\n",
    "    )"
   ]
  },
  {
   "cell_type": "code",
   "execution_count": 32,
   "id": "3808c956",
   "metadata": {},
   "outputs": [
    {
     "data": {
      "text/plain": [
       "'auto'"
      ]
     },
     "execution_count": 32,
     "metadata": {},
     "output_type": "execute_result"
    }
   ],
   "source": [
    "item_py.domain"
   ]
  },
  {
   "cell_type": "code",
   "execution_count": 33,
   "id": "ec23852b",
   "metadata": {},
   "outputs": [
    {
     "data": {
      "text/plain": [
       "['test1', 'test2']"
      ]
     },
     "execution_count": 33,
     "metadata": {},
     "output_type": "execute_result"
    }
   ],
   "source": [
    "item_py.tags"
   ]
  },
  {
   "cell_type": "code",
   "execution_count": 23,
   "id": "ea1b74fe",
   "metadata": {},
   "outputs": [],
   "source": [
    "item1 = '{\"domain\":\"auto\", \"tag\":[\"test1\",\"test2\"]}'"
   ]
  },
  {
   "cell_type": "code",
   "execution_count": 25,
   "id": "3f75e4d8",
   "metadata": {},
   "outputs": [
    {
     "data": {
      "text/plain": [
       "'auto'"
      ]
     },
     "execution_count": 25,
     "metadata": {},
     "output_type": "execute_result"
    }
   ],
   "source": [
    "import json\n",
    "item = json.loads(item1)\n",
    "domain = item['domain']\n",
    "domain"
   ]
  },
  {
   "cell_type": "code",
   "execution_count": null,
   "id": "5fd8e1c3",
   "metadata": {},
   "outputs": [],
   "source": [
    "def recommendatio(item:suggestions):"
   ]
  }
 ],
 "metadata": {
  "kernelspec": {
   "display_name": "Python 3 (ipykernel)",
   "language": "python",
   "name": "python3"
  },
  "language_info": {
   "codemirror_mode": {
    "name": "ipython",
    "version": 3
   },
   "file_extension": ".py",
   "mimetype": "text/x-python",
   "name": "python",
   "nbconvert_exporter": "python",
   "pygments_lexer": "ipython3",
   "version": "3.9.12"
  }
 },
 "nbformat": 4,
 "nbformat_minor": 5
}
